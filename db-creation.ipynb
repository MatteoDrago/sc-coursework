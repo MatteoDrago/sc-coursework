{
 "cells": [
  {
   "cell_type": "code",
   "execution_count": 251,
   "metadata": {
    "collapsed": false
   },
   "outputs": [
    {
     "data": {
      "text/plain": [
       "0           62364\n",
       "1           37748\n",
       "2            8630\n",
       "3           68679\n",
       "4           61575\n",
       "5           13050\n",
       "6           26672\n",
       "7           16122\n",
       "8           59743\n",
       "9           47980\n",
       "10          17400\n",
       "11          33898\n",
       "12          14430\n",
       "13          76438\n",
       "14          21265\n",
       "15          60341\n",
       "16          23458\n",
       "17          66918\n",
       "18          71369\n",
       "19          54954\n",
       "20          61636\n",
       "21          68269\n",
       "22          66400\n",
       "23          56237\n",
       "24           5243\n",
       "25          60008\n",
       "26          72472\n",
       "27          32411\n",
       "28          48683\n",
       "29          20919\n",
       "            ...  \n",
       "16045620    33267\n",
       "16045621    28519\n",
       "16045622    22347\n",
       "16045623    23157\n",
       "16045624    41072\n",
       "16045625    23196\n",
       "16045626    75889\n",
       "16045627    37295\n",
       "16045628    60746\n",
       "16045629    58012\n",
       "16045630    51703\n",
       "16045631    35809\n",
       "16045632    17045\n",
       "16045633    11424\n",
       "16045634    75711\n",
       "16045635    22161\n",
       "16045636    32470\n",
       "16045637    75181\n",
       "16045638    16622\n",
       "16045639    12335\n",
       "16045640    18999\n",
       "16045641    64303\n",
       "16045642    49643\n",
       "16045643    61087\n",
       "16045644     9017\n",
       "16045645    67773\n",
       "16045646    26772\n",
       "16045647    19643\n",
       "16045648     7157\n",
       "16045649      176\n",
       "Name: obj, dtype: int64"
      ]
     },
     "execution_count": 251,
     "metadata": {},
     "output_type": "execute_result"
    }
   ],
   "source": [
    "import pandas as pd\n",
    "import sqlite3 as sq\n",
    "import numpy as np\n",
    "\n",
    "trainset='./comp3208-2017-train.csv'\n",
    "data=pd.read_csv(trainset,encoding =\"ISO-8859-1\",sep=\",\",header=0,names=[\"users\", \"items\", \"ratings\"])\n",
    "\n",
    "#conn = sq.connect(\"train.db\")\n",
    "#table_name = 'ratings';\n",
    "\n",
    "col_name = data.columns[1]\n",
    "data=data.rename(columns = {col_name:'obj'})\n",
    "data.obj"
   ]
  },
  {
   "cell_type": "code",
   "execution_count": 17,
   "metadata": {
    "collapsed": false
   },
   "outputs": [],
   "source": [
    "# The following commands are impossible to execute due to memory issues. \n",
    "# ratingsMatrix = pd.pivot_table(data, values='ratings',index=['users'],columns=['items'])\n",
    "# ratingsMatrix.head()"
   ]
  },
  {
   "cell_type": "code",
   "execution_count": 378,
   "metadata": {
    "collapsed": false
   },
   "outputs": [
    {
     "name": "stdout",
     "output_type": "stream",
     "text": [
      "0.903589304192\n"
     ]
    }
   ],
   "source": [
    "def evaluatePearson (u1, u2):\n",
    "    I = list()\n",
    "    idx1 = list()\n",
    "    idx2 = list()\n",
    "    user1 = data[data.users == u1]\n",
    "    user2 = data[data.users == u2]\n",
    "    avg1 = np.mean(user1.ratings)\n",
    "    avg2 = np.mean(user2.ratings)\n",
    "    for i, it1 in enumerate(user1.obj):\n",
    "        for j, it2 in enumerate(user2.obj):\n",
    "            if it1 == it2:\n",
    "                idx1.append(user1.obj.index[i])\n",
    "                idx2.append(user2.obj.index[j])\n",
    "    \n",
    "    if len(idx1)>0:\n",
    "        rat1 = user1.ratings[idx1]\n",
    "        rat2 = user2.ratings[idx2]\n",
    "        diff1 = [x - avg1 for x in rat1]\n",
    "        diff2 = [x - avg2 for x in rat2] \n",
    "        num = np.dot(diff1,diff2)\n",
    "        den = np.dot(np.sqrt(np.sum(np.power(diff1,2))),np.sqrt(np.sum(np.power(diff2,2))))\n",
    "        return num/den\n",
    "    else:\n",
    "        return float('nan')\n",
    "            \n",
    "print evaluatePearson(1,165)\n"
   ]
  }
 ],
 "metadata": {
  "anaconda-cloud": {},
  "kernelspec": {
   "display_name": "Python [default]",
   "language": "python",
   "name": "python2"
  },
  "language_info": {
   "codemirror_mode": {
    "name": "ipython",
    "version": 2
   },
   "file_extension": ".py",
   "mimetype": "text/x-python",
   "name": "python",
   "nbconvert_exporter": "python",
   "pygments_lexer": "ipython2",
   "version": "2.7.12"
  }
 },
 "nbformat": 4,
 "nbformat_minor": 1
}
